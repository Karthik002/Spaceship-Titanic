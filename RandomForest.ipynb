{
  "nbformat": 4,
  "nbformat_minor": 0,
  "metadata": {
    "colab": {
      "provenance": [],
      "authorship_tag": "ABX9TyMCLV6YZsrsBKPWcxYIEopo",
      "include_colab_link": true
    },
    "kernelspec": {
      "name": "python3",
      "display_name": "Python 3"
    },
    "language_info": {
      "name": "python"
    }
  },
  "cells": [
    {
      "cell_type": "markdown",
      "metadata": {
        "id": "view-in-github",
        "colab_type": "text"
      },
      "source": [
        "<a href=\"https://colab.research.google.com/github/Karthik002/Spaceship-Titanic/blob/master/RandomForest.ipynb\" target=\"_parent\"><img src=\"https://colab.research.google.com/assets/colab-badge.svg\" alt=\"Open In Colab\"/></a>"
      ]
    },
    {
      "cell_type": "code",
      "execution_count": 57,
      "metadata": {
        "id": "PIaW3STYDj0t"
      },
      "outputs": [],
      "source": [
        "# load dataset\n",
        "import pandas as pd\n",
        "import numpy as np\n",
        "import matplotlib.pyplot as plt\n",
        "import seaborn as sns\n",
        "import warnings\n",
        "import matplotlib.pyplot as plt\n",
        "\n",
        "from sklearn.metrics import roc_auc_score,roc_curve\n",
        "from sklearn.metrics import roc_curve , auc\n",
        "from sklearn.metrics import confusion_matrix , classification_report,accuracy_score\n",
        "from sklearn.model_selection import train_test_split\n",
        "from sklearn.metrics import accuracy_score\n",
        "from sklearn.preprocessing import LabelEncoder\n",
        "from sklearn.model_selection import RandomizedSearchCV\n",
        "from sklearn.ensemble import RandomForestClassifier\n",
        "clf = RandomForestClassifier()\n",
        "\n",
        "# import data\n",
        "df_train = pd.read_csv('train.csv')\n",
        "df_test = pd.read_csv('test.csv')\n",
        "warnings.simplefilter(action='ignore')"
      ]
    },
    {
      "cell_type": "code",
      "source": [
        "# Drop null values\n",
        "df_train['Age'] =df_train['Age'].fillna(df_train['Age'].median())\n",
        "df_test['Age'] =df_test['Age'].fillna(df_test['Age'].median())\n",
        "df_train['VIP'] =df_train['VIP'].fillna(False)\n",
        "df_test['VIP'] =df_test['VIP'].fillna(False)\n",
        "df_train['HomePlanet'] =df_train['HomePlanet'].fillna('Mars')\n",
        "df_test['HomePlanet'] =df_test['HomePlanet'].fillna('Mars')\n",
        "df_train['Destination']=df_train['Destination'].fillna(\"PSO J318.5-22\")\n",
        "df_test['Destination']=df_test['Destination'].fillna(\"PSO J318.5-22\")\n",
        "df_train['CryoSleep'] =df_train['CryoSleep'].fillna(False)\n",
        "df_test['CryoSleep'] =df_test['CryoSleep'].fillna(False)\n",
        "df_train['Cabin'] =df_train['Cabin'].fillna('T/0/P')\n",
        "df_test['Cabin'] =df_test['Cabin'].fillna('T/0/P')\n",
        "df_train[['RoomService','FoodCourt','ShoppingMall','Spa','VRDeck']] = df_train[['RoomService','FoodCourt','ShoppingMall','Spa','VRDeck']].fillna(0)\n",
        "df_test[['RoomService','FoodCourt','ShoppingMall','Spa','VRDeck']] = df_test[['RoomService','FoodCourt','ShoppingMall','Spa','VRDeck']].fillna(0)\n"
      ],
      "metadata": {
        "id": "nZurkF2_Exts"
      },
      "execution_count": 58,
      "outputs": []
    },
    {
      "cell_type": "code",
      "source": [
        "# Set index\n",
        "df_train.set_index('PassengerId',inplace=True)\n",
        "df_test.set_index('PassengerId',inplace=True)\n",
        "\n",
        "# Split cabin column\n",
        "df_train[['Deck','Num','Side']] = df_train.Cabin.str.split('/',expand=True)\n",
        "df_test[['Deck','Num','Side']] = df_test.Cabin.str.split('/',expand=True)\n",
        "\n",
        "# Process ages\n",
        "df_train['AgeGroup'] = 0\n",
        "for i in range(6):\n",
        "    df_train.loc[(df_train.Age >= 10*i) & (df_train.Age < 10*(i + 1)), 'AgeGroup'] = i\n",
        "df_test['AgeGroup'] = 0\n",
        "for i in range(6):\n",
        "    df_test.loc[(df_test.Age >= 10*i) & (df_test.Age < 10*(i + 1)), 'AgeGroup'] = i\n",
        "\n",
        "# Encode categorical columns\n",
        "categorical_cols= ['HomePlanet','CryoSleep','Destination','VIP','Deck','Side','Num']\n",
        "for i in categorical_cols:\n",
        "    le=LabelEncoder()\n",
        "    arr=np.concatenate((df_train[i], df_test[i])).astype(str)\n",
        "    le.fit(arr)\n",
        "    df_train[i]=le.transform(df_train[i].astype(str))\n",
        "    df_test[i]=le.transform(df_test[i].astype(str))\n",
        "\n",
        "# Drop irrelevant columns\n",
        "df_train= df_train.drop(['Name','Cabin'],axis=1)\n",
        "df_test= df_test.drop(['Name','Cabin'],axis=1)\n",
        "df_train['Transported']=df_train['Transported'].replace({True:1,False:0})\n",
        "x = df_train.drop('Transported',axis=1)\n",
        "y = df_train['Transported']\n",
        "\n",
        "x_train, x_test, y_train, y_test = train_test_split(x, y, test_size=0.3, random_state=0)"
      ],
      "metadata": {
        "id": "kANlpn3cFHaM"
      },
      "execution_count": 59,
      "outputs": []
    },
    {
      "cell_type": "code",
      "source": [
        "# set parameters\n",
        "params_clf = { 'n_estimators' : [50, 100, 200, 300, 400],\n",
        "           'max_depth' : [4, 6, 8, 10, 12, 16],\n",
        "           'min_samples_leaf' : [4, 8, 12, 16, 20],\n",
        "           'min_samples_split' : [4, 8, 12, 16, 20]\n",
        "         }\n",
        "\n",
        "clf = RandomizedSearchCV(clf, param_distributions=params_clf, n_iter=30, scoring=\"roc_auc\", n_jobs=-1)\n",
        "\n",
        "# train model\n",
        "clf.fit(x_train, y_train)\n",
        "\n",
        "# model training & evaluation\n",
        "model = RandomForestClassifier(n_estimators = 200, random_state=5, max_depth = 12, min_samples_leaf = 4, min_samples_split = 4, oob_score=True)\n",
        "\n",
        "model.fit(x_train, y_train)\n",
        "\n",
        "y_pred=model.predict(x_test)\n",
        "\n",
        "print(\"train_set_accuracy: {:.3f}\".format(model.score(x_train, y_train)) )\n",
        "print(\"test_set_accuracy: {:.3f}\".format(model.score(x_test, y_test)) )\n",
        "\n"
      ],
      "metadata": {
        "colab": {
          "base_uri": "https://localhost:8080/"
        },
        "id": "w9qlbewMFsE_",
        "outputId": "9ce7b8fd-35dd-41cc-aa42-4504dce3404c"
      },
      "execution_count": 60,
      "outputs": [
        {
          "output_type": "stream",
          "name": "stdout",
          "text": [
            "train_set_accuracy: 0.868\n",
            "test_set_accuracy: 0.802\n"
          ]
        }
      ]
    },
    {
      "cell_type": "code",
      "source": [
        "## confusion matrix\n",
        "conf_mat=confusion_matrix(y_test,y_pred)\n",
        "print(\"Confusion matrix is \\n\",conf_mat)\n",
        "\n",
        "## plotting confusion matrix\n",
        "plt.figure(figsize=(7,7))\n",
        "plt.title(\"CM\")\n",
        "sns.heatmap(conf_mat, square=True,cmap=\"BuPu\",annot=True,fmt='d')\n",
        "plt.xlabel('true label')\n",
        "plt.ylabel('predicted label')"
      ],
      "metadata": {
        "colab": {
          "base_uri": "https://localhost:8080/",
          "height": 482
        },
        "id": "kCB4v0fFKN7Z",
        "outputId": "9113aa7b-1bbc-49d5-e3ed-af717796e6f2"
      },
      "execution_count": 61,
      "outputs": [
        {
          "output_type": "stream",
          "name": "stdout",
          "text": [
            "Confusion matrix is \n",
            " [[1017  286]\n",
            " [ 231 1074]]\n"
          ]
        },
        {
          "output_type": "execute_result",
          "data": {
            "text/plain": [
              "Text(42.0, 0.5, 'predicted label')"
            ]
          },
          "metadata": {},
          "execution_count": 61
        },
        {
          "output_type": "display_data",
          "data": {
            "text/plain": [
              "<Figure size 504x504 with 2 Axes>"
            ],
            "image/png": "[encoded data removed]"
          },
          "metadata": {
            "needs_background": "light"
          }
        }
      ]
    },
    {
      "cell_type": "code",
      "source": [
        "y_pred_proba = model.predict_proba(x_test)[:,1]\n",
        "fpr, tpr, _ = roc_curve(y_test, y_pred_proba)\n",
        "roc_auc=auc(fpr,tpr)\n",
        "\n",
        "#Now Draw ROC using fpr , tpr\n",
        "plt.plot([0, 1], [0, 1], 'k--',label='Random')\n",
        "plt.plot(fpr,tpr,label='ROC curve (area = %0.2f)' %roc_auc)\n",
        "plt.xlabel('False positive rate')\n",
        "plt.ylabel('True positive rate')\n",
        "plt.title(\" ROC curve\")\n",
        "plt.legend(loc='best')"
      ],
      "metadata": {
        "colab": {
          "base_uri": "https://localhost:8080/",
          "height": 313
        },
        "id": "KNDXIr1QPHii",
        "outputId": "ad9dec31-e616-4cd4-84f8-be69ba896db0"
      },
      "execution_count": 62,
      "outputs": [
        {
          "output_type": "execute_result",
          "data": {
            "text/plain": [
              "<matplotlib.legend.Legend at 0x7f4f096538e0>"
            ]
          },
          "metadata": {},
          "execution_count": 62
        },
        {
          "output_type": "display_data",
          "data": {
            "text/plain": [
              "<Figure size 432x288 with 1 Axes>"
            ],
            "image/png": "[encoded data removed]"
          },
          "metadata": {
            "needs_background": "light"
          }
        }
      ]
    }
  ]
}